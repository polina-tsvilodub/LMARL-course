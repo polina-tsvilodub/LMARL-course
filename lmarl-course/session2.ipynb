{
 "cells": [
  {
   "cell_type": "markdown",
   "metadata": {},
   "source": [
    "# Session 2\n",
    "\n",
    "This session will provide an introduction to Cognitive Architectures (CA), a computational functional description and a theory of human-like minds.\n",
    "\n",
    "Slides from the first lecture can be found [here](https://github.com/polina-tsvilodub/LMARL-course/tree/main/lmarl-course/slides/session2.pdf).\n",
    "\n",
    "The discussion of the day will be on the paper by [Laird, Lebiere & Rosenbloom (2017). A Standard Model of the Mind: Toward a Common Computational Framework Across Artificial Intelligence, Cognitive Science, Neuroscience, and Robotics](https://ojs.aaai.org/aimagazine/index.php/aimagazine/article/view/2744)."
   ]
  },
  {
   "cell_type": "markdown",
   "metadata": {},
   "source": [
    "## Exercises\n",
    "\n",
    "Below are some questions to recap and apply central concepts of the second session. Please try answer them for yourself. \n",
    "Further, exercises to familiarize yourself with Bayesian approaches of cognitive modeling."
   ]
  },
  {
   "cell_type": "markdown",
   "metadata": {},
   "source": [
    "> <strong><span style=&ldquo;color:#D83D2B;&rdquo;>Exercise 2.1.: What are cognitive architectures?</span></strong>\n",
    "> \n",
    "> 1. What is the difference between a cognitive architecture and the BDI model?\n",
    ">\n",
    "> 2. Consider the core modules of cognitive architectures: different types of memory, perception, motor modules, attention, action selection, learning. Which of these can one map onto aspects of LLMs? Map and explain briefly.\n",
    ">\n",
    "> 3. Compare the cognitive cycle described in the standard model and the implementation of Generative Agents. \n",
    ">\n",
    "> 4. "
   ]
  },
  {
   "cell_type": "markdown",
   "metadata": {},
   "source": [
    "> <strong><span style=&ldquo;color:#D83D2B;&rdquo;>Exercise 1.2.: Aspects of cognitive architectures</span></strong>\n",
    ">\n",
    "> 1. One of the modules in cognitive architectures is perception, which interacts with memory. Core functionality of these subprocesses in human cogntion is categorization, i.e., assigning discrete categories to perceived stimuli, based on our knowledge (memory) of different categories. While ML models are highly accurate at categorization tasks, they need large amounts of training data that is implausible from a cognitive perspective. Please follow [this tutorial](https://alanjern.github.io/computational-psych-book/04-categorization.html) to see an example of a model from cognitive psychology where categorization happens based on a smaller number of examples."
   ]
  }
 ],
 "metadata": {
  "kernelspec": {
   "display_name": "Python 3",
   "language": "python",
   "name": "python3"
  },
  "language_info": {
   "codemirror_mode": {
    "name": "ipython",
    "version": 3
   },
   "file_extension": ".py",
   "mimetype": "text/x-python",
   "name": "python",
   "nbconvert_exporter": "python",
   "pygments_lexer": "ipython3",
   "version": "3.8.0"
  },
  "widgets": {
   "application/vnd.jupyter.widget-state+json": {
    "state": {},
    "version_major": 2,
    "version_minor": 0
   }
  }
 },
 "nbformat": 4,
 "nbformat_minor": 4
}
