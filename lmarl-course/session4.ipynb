{
 "cells": [
  {
   "cell_type": "markdown",
   "metadata": {},
   "source": [
    "# Session 4\n",
    "\n",
    "This session will provide an overview of LLM agents and approaches to neuro-symbolic AI, bringing together the topics from the previous days.\n",
    "\n",
    "Slides from the fourth lecture can be found [here](https://github.com/polina-tsvilodub/LMARL-course/tree/main/lmarl-course/slides/session4.pdf).\n",
    "\n",
    "The discussion of the day will be on the paper by [Yao et al. (2023). ReAct: Synergizing reasoning and acting in language models](https://arxiv.org/abs/2210.03629)."
   ]
  },
  {
   "cell_type": "markdown",
   "metadata": {},
   "source": [
    "## Exercises\n",
    "\n",
    "1. Do you think that LLM agents in the sense in which they were discussed today are agents (according to definitions and properties form day 1)? Why (not)? \n",
    "2. Do you think applications that are called LLM agents need to be agentic?\n",
    "3. What speaks in favor, what speaks against calling LLM generations \"reasoning\"? Name two aspects.\n",
    "4. Which tools do you think could be used with an LLM to build an LLM+tool-based cognitive architecture?\n",
    "5. What is the difference between an LLM agent and a few-shot prompted (vanilla) LLM?\n",
    "6. For which tasks do you think would the ReAct prompting strategy work (not) well? Name one example each."
   ]
  },
  {
   "cell_type": "markdown",
   "metadata": {},
   "source": []
  }
 ],
 "metadata": {
  "kernelspec": {
   "display_name": "Python 3",
   "language": "python",
   "name": "python3"
  },
  "language_info": {
   "codemirror_mode": {
    "name": "ipython",
    "version": 3
   },
   "file_extension": ".py",
   "mimetype": "text/x-python",
   "name": "python",
   "nbconvert_exporter": "python",
   "pygments_lexer": "ipython3",
   "version": "3.8.0"
  },
  "widgets": {
   "application/vnd.jupyter.widget-state+json": {
    "state": {},
    "version_major": 2,
    "version_minor": 0
   }
  }
 },
 "nbformat": 4,
 "nbformat_minor": 4
}
